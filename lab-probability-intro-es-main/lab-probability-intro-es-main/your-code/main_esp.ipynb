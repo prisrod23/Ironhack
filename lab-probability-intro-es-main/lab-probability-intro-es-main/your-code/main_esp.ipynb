{
 "cells": [
  {
   "cell_type": "markdown",
   "metadata": {},
   "source": [
    "# Probability"
   ]
  },
  {
   "cell_type": "markdown",
   "metadata": {},
   "source": [
    "## Reto 1\n",
    "Hay una caja con 10 bolas blancas, 12 bolas rojas y 8 bolas negras. Calcula la probabilidad de:\n",
    "* Sacar una bola blanca.\n",
    "* Sacar una bola blanca en la primera extracción y una bola negra en la segunda extracción sin reemplazar la primera.\n",
    "* Sacar una bola blanca en la primera extracción y una bola negra en la segunda extracción reemplazando la primera.\n",
    "* Sacar 3 bolas y que sean todas de diferentes colores."
   ]
  },
  {
   "cell_type": "code",
   "execution_count": 12,
   "metadata": {},
   "outputs": [],
   "source": [
    "# 1. Sacar una bola blanca = 10/30\n",
    "# 2. Sacar la bola blanca y luego sacar una bola negra (10/30 * 8/29)  \n",
    "# 3. Sacar la bola blanca y luego sacar una bola negra (10/30 * 8/30)\n",
    "# 4. Sacar 3 bolas y que sean todas de diferentes colores(10/30 * 8/29 * 12/28) "
   ]
  },
  {
   "cell_type": "code",
   "execution_count": 11,
   "metadata": {},
   "outputs": [
    {
     "name": "stdout",
     "output_type": "stream",
     "text": [
      "Probabilidad de sacar una bola blanca: 0.3333\n",
      "Probabilidad de sacar una bola blanca y luego una negra sin reemplazo: 0.0920\n",
      "Probabilidad de sacar una bola blanca y luego una negra con reemplazo: 0.0889\n",
      "Probabilidad de sacar 3 bolas de diferentes colores: 0.2365\n"
     ]
    }
   ],
   "source": [
    "# Definición de las cantidades de bolas\n",
    "total_bolas = 30\n",
    "blancas = 10\n",
    "rojas = 12\n",
    "negras = 8\n",
    "\n",
    "# 1. Probabilidad de sacar una bola blanca\n",
    "p_bola_blanca = blancas / total_bolas\n",
    "print(f\"Probabilidad de sacar una bola blanca: {p_bola_blanca:.4f}\")\n",
    "\n",
    "# 2. Probabilidad de sacar una bola blanca y luego una bola negra sin reemplazo\n",
    "p_primera_blanca = blancas / total_bolas\n",
    "p_segunda_negra_sin_reemplazo = negras / (total_bolas - 1)\n",
    "p_blanca_luego_negra_sin_reemplazo = p_primera_blanca * p_segunda_negra_sin_reemplazo\n",
    "print(f\"Probabilidad de sacar una bola blanca y luego una negra sin reemplazo: {p_blanca_luego_negra_sin_reemplazo:.4f}\")\n",
    "\n",
    "# 3. Probabilidad de sacar una bola blanca y luego una bola negra con reemplazo\n",
    "p_segunda_negra_con_reemplazo = negras / total_bolas\n",
    "p_blanca_luego_negra_con_reemplazo = p_primera_blanca * p_segunda_negra_con_reemplazo\n",
    "print(f\"Probabilidad de sacar una bola blanca y luego una negra con reemplazo: {p_blanca_luego_negra_con_reemplazo:.4f}\")\n",
    "\n",
    "# 4. Probabilidad de sacar 3 bolas de diferentes colores\n",
    "p_primera_blanca = blancas / total_bolas\n",
    "p_segunda_roja = rojas / (total_bolas - 1)\n",
    "p_tercera_negra = negras / (total_bolas - 2)\n",
    "p_blanca_roja_negra = p_primera_blanca * p_segunda_roja * p_tercera_negra\n",
    "\n",
    "# Número de permutaciones (3! = 6) 3factorial= 3x2x1\n",
    "permutaciones = 6\n",
    "p_tres_colores_diferentes = permutaciones * p_blanca_roja_negra\n",
    "print(f\"Probabilidad de sacar 3 bolas de diferentes colores: {p_tres_colores_diferentes:.4f}\")"
   ]
  },
  {
   "cell_type": "markdown",
   "metadata": {},
   "source": [
    "## Reto 2\n",
    "\n",
    "Quieres ir de picnic el sábado. Odias la lluvia y quieres planificar tu fin de semana. Para ayudarte a tomar una decisión, recopilas los siguientes datos sobre los días lluviosos:\n",
    "\n",
    "* El 40% de todos los días están nublados.\n",
    "* Aproximadamente el 50% de los días nublados son lluviosos.\n",
    "* Aproximadamente el 20% de los días no nublados son lluviosos.\n",
    "\n",
    "¿Cuál es la probabilidad de que llueva el próximo sábado?"
   ]
  },
  {
   "cell_type": "code",
   "execution_count": 19,
   "metadata": {},
   "outputs": [
    {
     "name": "stdout",
     "output_type": "stream",
     "text": [
      "La probabilidad de que llueva el próximo sábado es: 0.32\n"
     ]
    }
   ],
   "source": [
    "# Definir las probabilidades dadas\n",
    "nublados = 0.40\n",
    "nublados_lluv = 0.50\n",
    "claros_lluv = 0.20\n",
    "\n",
    "# Calcular P(Nc)\n",
    "claros = 1 - nublados\n",
    "\n",
    "# Calcular P(R) usando la regla de la probabilidad total\n",
    "Prob = (nublados_lluv * nublados) + (claros_lluv * claros)\n",
    "\n",
    "print(f\"La probabilidad de que llueva el próximo sábado es: {Prob:.2f}\")"
   ]
  },
  {
   "cell_type": "markdown",
   "metadata": {},
   "source": [
    "## Reto 3\n",
    "\n",
    "A y B son eventos de una probabilidad tal que \\(P(A) = 0.3\\), \\(P(B) = 0.6\\) y \\(P(A \\cap B) = 0.1\\)->P(A∩B)=0.1\n",
    "\n",
    "¿Cuáles de las siguientes afirmaciones son verdaderas?\n",
    "**SUGERENCIA: dibuja un gran diagrama de Venn a tu lado**\n",
    "* \\(P(\\overline{A}) = 0.7\\)\n",
    "* \\(P(A \\cup B) = 0.6\\)\n",
    "* \\(P(A \\cap \\overline{B}) = 0.2\\)\n",
    "* \\(P(A \\cup \\overline{A}) = 1\\)  \n",
    "* \\(P(A \\cap (B \\cup \\overline{B})) = 0.4\\)\n",
    "* \\(P(\\overline{A} \\cap \\overline{B}) = 0.3\\)\n",
    "* \\(P(\\overline{A \\cap B}) = 0.9\\)"
   ]
  },
  {
   "cell_type": "code",
   "execution_count": 35,
   "metadata": {},
   "outputs": [
    {
     "name": "stdout",
     "output_type": "stream",
     "text": [
      "Complementario de A = 0.70\n"
     ]
    }
   ],
   "source": [
    "# Datos proporcionados\n",
    "P_A = 0.3    # Probabilidad de A\n",
    "P_B = 0.6    # Probabilidad de B\n",
    "P_A_int_B = 0.1   # Probabilidad de A intersección B\n",
    "\n",
    "P_no_A= 1-P_A\n",
    "P_no_B= 1-P_B\n",
    "\n",
    "print(f\"Complementario de A = {P_no_A:.2f}\")"
   ]
  },
  {
   "cell_type": "code",
   "execution_count": 34,
   "metadata": {},
   "outputs": [
    {
     "name": "stdout",
     "output_type": "stream",
     "text": [
      "Unión de A y B  = 0.80\n"
     ]
    }
   ],
   "source": [
    "# P(A \\cup B): Unión de A y B \n",
    "P_A_union_B = P_A + P_B - P_A_int_B\n",
    "\n",
    "print(f\"Unión de A y B  = {P_A_union_B:.2f}\") #false"
   ]
  },
  {
   "cell_type": "code",
   "execution_count": 36,
   "metadata": {},
   "outputs": [
    {
     "name": "stdout",
     "output_type": "stream",
     "text": [
      "Intersección de A y complemento de B = 0.20\n"
     ]
    }
   ],
   "source": [
    "#(P(A \\cap \\overline{B}): Intersección de A y complemento de B\n",
    "\n",
    "P_A_interseccion_no_B = P_A - P_A_int_B\n",
    "print(f\"Intersección de A y complemento de B = {P_A_interseccion_no_B:.2f}\")"
   ]
  },
  {
   "cell_type": "code",
   "execution_count": 37,
   "metadata": {},
   "outputs": [
    {
     "name": "stdout",
     "output_type": "stream",
     "text": [
      "Unión de A y su complemento = 1.00\n"
     ]
    }
   ],
   "source": [
    "# P(A \\cup \\overline{A}): Unión de A y su complemento\n",
    "P_A_union_no_A = P_A + P_no_A\n",
    "\n",
    "print(f\"Unión de A y su complemento = {P_A_union_no_A:.2f}\")"
   ]
  },
  {
   "cell_type": "code",
   "execution_count": 40,
   "metadata": {},
   "outputs": [
    {
     "name": "stdout",
     "output_type": "stream",
     "text": [
      "Intersección de A con la unión de B y su complemento (espacio muestral completo) = 0.30\n"
     ]
    }
   ],
   "source": [
    "# P(A \\cap (B \\cup \\overline{B})): Intersección de A con la unión de B y su complemento (espacio muestral completo)\n",
    "P_A_interseccion_B_union_no_B = P_A\n",
    "\n",
    "print(f\"Intersección de A con la unión de B y su complemento (espacio muestral completo) = {P_A_interseccion_B_union_no_B:.2f}\")"
   ]
  },
  {
   "cell_type": "code",
   "execution_count": 41,
   "metadata": {},
   "outputs": [
    {
     "name": "stdout",
     "output_type": "stream",
     "text": [
      " Intersección de los complementos de A y B = 0.20\n"
     ]
    }
   ],
   "source": [
    "# P(\\overline{A} \\cap \\overline{B}): Intersección de los complementos de A y B\n",
    "P_no_A_interseccion_no_B = 1 - P_A_union_B\n",
    "print(f\" Intersección de los complementos de A y B = {P_no_A_interseccion_no_B:.2f}\")"
   ]
  },
  {
   "cell_type": "code",
   "execution_count": 43,
   "metadata": {},
   "outputs": [
    {
     "name": "stdout",
     "output_type": "stream",
     "text": [
      "Complemento de la intersección de A y B = 0.90\n"
     ]
    }
   ],
   "source": [
    "# P(\\overline{A \\cap B}): Complemento de la intersección de A y B\n",
    "P_no_A_interseccion_B = 1 - P_A_int_B\n",
    "\n",
    "print(f\"Complemento de la intersección de A y B = {P_no_A_interseccion_B:.2f}\")"
   ]
  },
  {
   "cell_type": "markdown",
   "metadata": {},
   "source": [
    "## Reto 4\n",
    "\n",
    "* Si alguien viaja a China, la probabilidad de contraer Covid es del 1%\n",
    "* Si alguien viaja a Italia, la probabilidad de contraer Covid es del 20%\n",
    "\n",
    "Lanzo un dado con números 1, 2, 3, 4, 5, 6:\n",
    "* Si sale 1: Vuelo a Italia\n",
    "* Si no sale 1: Vuelo a China\n",
    "\n",
    "Durante mi viaje, contraje Covid. ¿Cuál es la probabilidad de que haya volado a China?"
   ]
  },
  {
   "cell_type": "markdown",
   "metadata": {},
   "source": [
    "Probabilidad de haber viajado a China: Es de 5/6.\n",
    "Probabilidad de haber viajado a Italia: Es de 1/6.\n",
    "Probabilidad de contraer COVID-19 en China: Es del 1%.\n",
    "Probabilidad de contraer COVID-19 en Italia: Es del 20%.\n",
    "¿Qué hacemos ahora?\n",
    "Probabilidad de haber viajado a China y contraer COVID-19: Es de 5/6 * 1% = 0.0083.\n",
    "Probabilidad de haber viajado a Italia y contraer COVID-19: Es de 1/6 * 20% = 0.0333.\n",
    "¿Y ahora qué?\n",
    "Probabilidad total de contraer COVID-19: Es la suma de las probabilidades anteriores: 0.0083 + 0.0333 = 0.0416.\n",
    "Probabilidad de haber viajado a China dado que se contrajo COVID-19: Es la probabilidad de haber viajado a China y contraer COVID-19 dividida por la probabilidad total de contraer COVID-19: 0.0083 / 0.0416 = 0.199."
   ]
  },
  {
   "cell_type": "code",
   "execution_count": null,
   "metadata": {},
   "outputs": [],
   "source": [
    "china = 0.01\n",
    "italy = 0.2\n",
    "italy_fly = 1/6\n",
    "china_fly = 5/6\n",
    "\n",
    "prob_covid=((china*china_fly)+(italy*italy_fly))\n",
    "\n",
    "prob_china=(china*china_fly)\n",
    "\n",
    "print(f\" La probabilidad de haber viajado a china es de {prob_china/prob_covid}\")"
   ]
  },
  {
   "cell_type": "markdown",
   "metadata": {},
   "source": [
    "## BONUS\n",
    "\n",
    "Lanzas 2 dados. ¿Cuál es la probabilidad de que la suma de los números sea 7? ¿Y 8? ¿Y 9? Luego simula 10000 veces y dibuja un gráfico de conteo.\n",
    "\n",
    "tu explicación aquí"
   ]
  },
  {
   "cell_type": "code",
   "execution_count": null,
   "metadata": {},
   "outputs": [],
   "source": [
    "# YOUR CODE HERE"
   ]
  }
 ],
 "metadata": {
  "kernelspec": {
   "display_name": "Python 3 (ipykernel)",
   "language": "python",
   "name": "python3"
  },
  "language_info": {
   "codemirror_mode": {
    "name": "ipython",
    "version": 3
   },
   "file_extension": ".py",
   "mimetype": "text/x-python",
   "name": "python",
   "nbconvert_exporter": "python",
   "pygments_lexer": "ipython3",
   "version": "3.12.4"
  },
  "toc": {
   "base_numbering": 1,
   "nav_menu": {},
   "number_sections": false,
   "sideBar": true,
   "skip_h1_title": false,
   "title_cell": "Table of Contents",
   "title_sidebar": "Contents",
   "toc_cell": false,
   "toc_position": {
    "height": "calc(100% - 180px)",
    "left": "10px",
    "top": "150px",
    "width": "296.475px"
   },
   "toc_section_display": true,
   "toc_window_display": false
  },
  "varInspector": {
   "cols": {
    "lenName": 16,
    "lenType": 16,
    "lenVar": 40
   },
   "kernels_config": {
    "python": {
     "delete_cmd_postfix": "",
     "delete_cmd_prefix": "del ",
     "library": "var_list.py",
     "varRefreshCmd": "print(var_dic_list())"
    },
    "r": {
     "delete_cmd_postfix": ") ",
     "delete_cmd_prefix": "rm(",
     "library": "var_list.r",
     "varRefreshCmd": "cat(var_dic_list()) "
    }
   },
   "types_to_exclude": [
    "module",
    "function",
    "builtin_function_or_method",
    "instance",
    "_Feature"
   ],
   "window_display": false
  }
 },
 "nbformat": 4,
 "nbformat_minor": 4
}
