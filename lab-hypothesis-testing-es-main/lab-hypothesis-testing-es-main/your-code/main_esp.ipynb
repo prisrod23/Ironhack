{
 "cells": [
  {
   "cell_type": "markdown",
   "metadata": {},
   "source": [
    "# Antes de empezar:\n",
    "- Lee el archivo README.md\n",
    "- Comenta tanto como puedas y utiliza los recursos (archivo README.md)\n",
    "- ¡Feliz aprendizaje!"
   ]
  },
  {
   "cell_type": "code",
   "execution_count": 2,
   "metadata": {},
   "outputs": [],
   "source": [
    "# import numpy and pandas\n",
    "import pandas as pd\n",
    "import numpy as np\n",
    "from scipy.stats import trim_mean, mode, skew, gaussian_kde, pearsonr, spearmanr, beta\n",
    "from statsmodels.stats.weightstats import ztest as ztest\n",
    "\n",
    "from scipy.stats import ttest_ind, norm, t\n",
    "from scipy.stats import f_oneway\n",
    "from scipy.stats import sem"
   ]
  },
  {
   "cell_type": "markdown",
   "metadata": {},
   "source": [
    "# Reto 1 - Explorando los Datos\n",
    "\n",
    "En este reto, examinaremos todos los salarios de los empleados de la Ciudad de Chicago. Comenzaremos cargando el conjunto de datos y examinando su contenido."
   ]
  },
  {
   "cell_type": "code",
   "execution_count": 4,
   "metadata": {},
   "outputs": [],
   "source": [
    "# Run this code:\n",
    "df = pd.read_csv(r'C:\\Users\\user\\Documents\\ironhack\\06.24\\ML\\lab-hypothesis-testing-es-main\\lab-hypothesis-testing-es-main\\data\\Current_Employee_Names__Salaries__and_Position_Titles.csv')"
   ]
  },
  {
   "cell_type": "markdown",
   "metadata": {},
   "source": [
    "Examina el conjunto de datos `salaries` utilizando la función `head` que se muestra a continuación."
   ]
  },
  {
   "cell_type": "code",
   "execution_count": 5,
   "metadata": {},
   "outputs": [
    {
     "data": {
      "text/html": [
       "<div>\n",
       "<style scoped>\n",
       "    .dataframe tbody tr th:only-of-type {\n",
       "        vertical-align: middle;\n",
       "    }\n",
       "\n",
       "    .dataframe tbody tr th {\n",
       "        vertical-align: top;\n",
       "    }\n",
       "\n",
       "    .dataframe thead th {\n",
       "        text-align: right;\n",
       "    }\n",
       "</style>\n",
       "<table border=\"1\" class=\"dataframe\">\n",
       "  <thead>\n",
       "    <tr style=\"text-align: right;\">\n",
       "      <th></th>\n",
       "      <th>Name</th>\n",
       "      <th>Job Titles</th>\n",
       "      <th>Department</th>\n",
       "      <th>Full or Part-Time</th>\n",
       "      <th>Salary or Hourly</th>\n",
       "      <th>Typical Hours</th>\n",
       "      <th>Annual Salary</th>\n",
       "      <th>Hourly Rate</th>\n",
       "    </tr>\n",
       "  </thead>\n",
       "  <tbody>\n",
       "    <tr>\n",
       "      <th>0</th>\n",
       "      <td>AARON,  JEFFERY M</td>\n",
       "      <td>SERGEANT</td>\n",
       "      <td>POLICE</td>\n",
       "      <td>F</td>\n",
       "      <td>Salary</td>\n",
       "      <td>NaN</td>\n",
       "      <td>101442.0</td>\n",
       "      <td>NaN</td>\n",
       "    </tr>\n",
       "    <tr>\n",
       "      <th>1</th>\n",
       "      <td>AARON,  KARINA</td>\n",
       "      <td>POLICE OFFICER (ASSIGNED AS DETECTIVE)</td>\n",
       "      <td>POLICE</td>\n",
       "      <td>F</td>\n",
       "      <td>Salary</td>\n",
       "      <td>NaN</td>\n",
       "      <td>94122.0</td>\n",
       "      <td>NaN</td>\n",
       "    </tr>\n",
       "    <tr>\n",
       "      <th>2</th>\n",
       "      <td>AARON,  KIMBERLEI R</td>\n",
       "      <td>CHIEF CONTRACT EXPEDITER</td>\n",
       "      <td>GENERAL SERVICES</td>\n",
       "      <td>F</td>\n",
       "      <td>Salary</td>\n",
       "      <td>NaN</td>\n",
       "      <td>101592.0</td>\n",
       "      <td>NaN</td>\n",
       "    </tr>\n",
       "    <tr>\n",
       "      <th>3</th>\n",
       "      <td>ABAD JR,  VICENTE M</td>\n",
       "      <td>CIVIL ENGINEER IV</td>\n",
       "      <td>WATER MGMNT</td>\n",
       "      <td>F</td>\n",
       "      <td>Salary</td>\n",
       "      <td>NaN</td>\n",
       "      <td>110064.0</td>\n",
       "      <td>NaN</td>\n",
       "    </tr>\n",
       "    <tr>\n",
       "      <th>4</th>\n",
       "      <td>ABASCAL,  REECE E</td>\n",
       "      <td>TRAFFIC CONTROL AIDE-HOURLY</td>\n",
       "      <td>OEMC</td>\n",
       "      <td>P</td>\n",
       "      <td>Hourly</td>\n",
       "      <td>20.0</td>\n",
       "      <td>NaN</td>\n",
       "      <td>19.86</td>\n",
       "    </tr>\n",
       "  </tbody>\n",
       "</table>\n",
       "</div>"
      ],
      "text/plain": [
       "                  Name                              Job Titles  \\\n",
       "0    AARON,  JEFFERY M                                SERGEANT   \n",
       "1      AARON,  KARINA   POLICE OFFICER (ASSIGNED AS DETECTIVE)   \n",
       "2  AARON,  KIMBERLEI R                CHIEF CONTRACT EXPEDITER   \n",
       "3  ABAD JR,  VICENTE M                       CIVIL ENGINEER IV   \n",
       "4    ABASCAL,  REECE E             TRAFFIC CONTROL AIDE-HOURLY   \n",
       "\n",
       "         Department Full or Part-Time Salary or Hourly  Typical Hours  \\\n",
       "0            POLICE                 F           Salary            NaN   \n",
       "1            POLICE                 F           Salary            NaN   \n",
       "2  GENERAL SERVICES                 F           Salary            NaN   \n",
       "3       WATER MGMNT                 F           Salary            NaN   \n",
       "4              OEMC                 P           Hourly           20.0   \n",
       "\n",
       "   Annual Salary  Hourly Rate  \n",
       "0       101442.0          NaN  \n",
       "1        94122.0          NaN  \n",
       "2       101592.0          NaN  \n",
       "3       110064.0          NaN  \n",
       "4            NaN        19.86  "
      ]
     },
     "execution_count": 5,
     "metadata": {},
     "output_type": "execute_result"
    }
   ],
   "source": [
    "df.head()"
   ]
  },
  {
   "cell_type": "markdown",
   "metadata": {},
   "source": [
    "# Reto 2 - Pruebas de Hipótesis\n",
    "\n",
    "En esta sección del laboratorio, vamos a probar si el salario por hora de todos los trabajadores por hora es significativamente diferente de $30/hora. Importa la función correcta para la prueba de una muestra desde scipy y realiza la prueba de hipótesis para un intervalo de confianza de dos lados del 95%."
   ]
  },
  {
   "cell_type": "code",
   "execution_count": 8,
   "metadata": {},
   "outputs": [
    {
     "name": "stdout",
     "output_type": "stream",
     "text": [
      "T-statistic: 0.23020575383291658\n",
      "P-value: 0.8179377615647019\n",
      "La hipótesis de que el salario por hora es diferente de $30/hora no se rechaza a un nivel de significancia del 5%.\n"
     ]
    }
   ],
   "source": [
    "# Filtrar los trabajadores por hora\n",
    "hourly_workers = df[(df['Salary or Hourly'] == 'Hourly') & (df['Hourly Rate'].notna())]\n",
    "\n",
    "# Obtener los salarios por hora\n",
    "hourly_rates = hourly_workers['Hourly Rate'].values\n",
    "\n",
    "# Realizar la prueba de hipótesis\n",
    "t_stat, p_val = ttest_ind(hourly_rates, 30)\n",
    "\n",
    "# Imprimir los resultados\n",
    "print(f'T-statistic: {t_stat}')\n",
    "print(f'P-value: {p_val}')\n",
    "\n",
    "# Evaluar el resultado\n",
    "alpha = 0.05  # Nivel de significancia del 95%\n",
    "\n",
    "# Interpretar los resultados\n",
    "if p_val < alpha:\n",
    "    print(\"La hipótesis de que el salario por hora es diferente de $30/hora se rechaza a un nivel de significancia del 5%.\")\n",
    "else:\n",
    "    print(\"La hipótesis de que el salario por hora es diferente de $30/hora no se rechaza a un nivel de significancia del 5%.\")"
   ]
  },
  {
   "cell_type": "markdown",
   "metadata": {},
   "source": [
    "La prueba de hipótesis realizada no encontró evidencia suficiente para rechazar la hipótesis nula de que el salario por hora de los trabajadores es diferente de $30/hora, a un nivel de significancia del 5%.\n",
    "\n",
    "Esto significa que:\n",
    "Hipótesis nula (H0): El salario por hora es igual a $30/hora.\n",
    "Hipótesis alternativa (H1): El salario por hora es diferente a $30/hora.\n",
    "Nivel de significancia: 5% (α = 0.05)\n",
    "Dado que el valor p obtenido en la prueba de hipótesis fue mayor a 0.05, no se pudo rechazar la hipótesis nula. En otras palabras, no hay evidencia estadística suficiente para afirmar que el salario por hora es significativamente diferente de $30/hora.\n",
    "En resumen, los resultados de la prueba de hipótesis indican que no se puede concluir que el salario por hora de los trabajadores es diferente de $30/hora, a un nivel de confianza del 95%. No se puede rechazar la hipótesis de que el salario por hora es igual a $30/hora."
   ]
  },
  {
   "cell_type": "markdown",
   "metadata": {},
   "source": [
    "# Reto 3 - Construyendo Intervalos de Confianza\n",
    "\n",
    "Aunque probar nuestra hipótesis es una excelente manera de obtener evidencia empírica para aceptar o rechazar la hipótesis, otra forma de recopilar evidencia es creando un intervalo de confianza. Un intervalo de confianza nos brinda información sobre la media verdadera de la población. Por lo tanto, para un intervalo de confianza del 95%, estamos seguros en un 95% de que la media de la población se encuentra dentro del intervalo de confianza.\n",
    "\n",
    "Para leer más sobre los intervalos de confianza, haz clic [aquí](https://es.wikipedia.org/wiki/Intervalo_de_confianza).\n",
    "\n",
    "En la celda a continuación, construiremos un intervalo de confianza del 95% para el salario por hora medio de todos los trabajadores por hora.\n",
    "\n",
    "El intervalo de confianza se calcula en SciPy utilizando la función `t.interval`. Puedes leer más sobre esta función [aquí](https://docs.scipy.org/doc/scipy-0.14.0/reference/generated/scipy.stats.t.html).\n",
    "\n",
    "Para calcular el intervalo de confianza del salario por hora, usa 0.95 para el nivel de confianza, el número de filas - 1 para los grados de libertad, la media de la muestra para el parámetro de ubicación y el error estándar para la escala. El error estándar se puede calcular utilizando [esta](https://docs.scipy.org/doc/scipy/reference/generated/scipy.stats.sem.html) función en SciPy."
   ]
  },
  {
   "cell_type": "code",
   "execution_count": 15,
   "metadata": {},
   "outputs": [
    {
     "name": "stdout",
     "output_type": "stream",
     "text": [
      "Intervalo de confianza del 95.0% para el salario por hora medio:\n",
      "Límite inferior: 32.52\n",
      "Límite superior: 33.05 \n",
      "\n",
      "Salario medio: 32.79\n",
      "Error estándar: 0.14\n"
     ]
    }
   ],
   "source": [
    "# Obtener los salarios por hora\n",
    "hourly_rates = hourly_workers['Hourly Rate'].values\n",
    "\n",
    "# Calcular el error estándar\n",
    "std_error = sem(hourly_rates)\n",
    "\n",
    "# Calcular el intervalo de confianza\n",
    "confidence_level = 0.95\n",
    "degrees_of_freedom = len(hourly_rates) - 1\n",
    "mean_hourly_rate = hourly_rates.mean()\n",
    "standard_error = std_error\n",
    "\n",
    "lower, upper = t.interval(confidence_level, df=degrees_of_freedom, loc=mean_hourly_rate, scale=standard_error)\n",
    "\n",
    "print(f\"Intervalo de confianza del {confidence_level*100}% para el salario por hora medio:\")\n",
    "print(f\"Límite inferior: {lower:.2f}\")\n",
    "print(f\"Límite superior: {upper:.2f} \\n\")\n",
    "print(f\"Salario medio: {mean_hourly_rate:.2f}\")\n",
    "print(f'Error estándar: {standard_error:.2f}')\n"
   ]
  },
  {
   "cell_type": "markdown",
   "metadata": {},
   "source": [
    "# Reto 4 - Pruebas de Hipótesis de Proporciones\n",
    "\n",
    "Otro tipo de prueba de una muestra es una prueba de hipótesis de proporciones. En esta prueba, examinamos si la proporción de un grupo en nuestra muestra es significativamente diferente de una fracción.\n",
    "\n",
    "Puedes leer más sobre las pruebas de proporción de una muestra [aquí](http://sphweb.bumc.bu.edu/otlt/MPH-Modules/BS/SAS/SAS6-CategoricalData/SAS6-CategoricalData2.html).\n",
    "\n",
    "En la celda a continuación, utiliza la función `proportions_ztest` de `statsmodels` para realizar una prueba de hipótesis que determinará si el número de trabajadores por hora en la Ciudad de Chicago es significativamente diferente del 25% en el nivel de confianza del 95%."
   ]
  },
  {
   "cell_type": "code",
   "execution_count": 19,
   "metadata": {},
   "outputs": [
    {
     "name": "stdout",
     "output_type": "stream",
     "text": [
      "Estadístico Z: -3.5099964213703005\n",
      "P-valor: 0.0004481127249057967\n",
      "Rechazamos la hipótesis nula, la hipótesis de que el porcentaje de trabajadores por hora es significativamente diferente del 25%.\n"
     ]
    }
   ],
   "source": [
    "from statsmodels.stats.proportion import proportions_ztest\n",
    "\n",
    "# Filtrar los trabajadores por hora\n",
    "hourly_workers = df[(df['Salary or Hourly'] == 'Hourly') & (df['Hourly Rate'].notna())]\n",
    "\n",
    "# Calcular el número total de trabajadores\n",
    "total_workers = len(df)\n",
    "\n",
    "# Calcular el número de trabajadores por hora\n",
    "num_hourly_workers = len(hourly_workers)\n",
    "\n",
    "# Realizar la prueba de hipótesis\n",
    "count = num_hourly_workers\n",
    "nobs = total_workers\n",
    "hypothetical_proportion  = 0.25\n",
    "alpha = 0.05\n",
    "\n",
    "stat, pval = proportions_ztest(count=count, nobs=nobs, value=hypothetical_proportion, alternative='two-sided')\n",
    "\n",
    "# Imprimir los resultados\n",
    "print(f'Estadístico Z: {stat}')\n",
    "print(f'P-valor: {pval}')\n",
    "\n",
    "# Interpretar los resultados\n",
    "if pval < alpha:\n",
    "    print(\"Rechazamos la hipótesis nula, la hipótesis de que el porcentaje de trabajadores por hora es significativamente diferente del 25%.\")\n",
    "else:\n",
    "    print(\"No rechazamos la hipótesis nula, la hipótesis de que el porcentaje de trabajadores por hora no es suficiente para ver diferente del 25%.\")"
   ]
  },
  {
   "cell_type": "markdown",
   "metadata": {},
   "source": [
    "En este caso, el p-valor es 0.0004481127249057967, que es menor que 0.05. Por lo tanto, se rechaza la hipótesis nula."
   ]
  }
 ],
 "metadata": {
  "kernelspec": {
   "display_name": "Python 3 (ipykernel)",
   "language": "python",
   "name": "python3"
  },
  "language_info": {
   "codemirror_mode": {
    "name": "ipython",
    "version": 3
   },
   "file_extension": ".py",
   "mimetype": "text/x-python",
   "name": "python",
   "nbconvert_exporter": "python",
   "pygments_lexer": "ipython3",
   "version": "3.12.4"
  }
 },
 "nbformat": 4,
 "nbformat_minor": 4
}
